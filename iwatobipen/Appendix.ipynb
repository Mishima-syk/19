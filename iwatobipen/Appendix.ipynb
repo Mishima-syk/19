{
 "cells": [
  {
   "cell_type": "code",
   "execution_count": 12,
   "id": "f4bfff50",
   "metadata": {},
   "outputs": [],
   "source": [
    "from rdkit import Chem\n",
    "from rdkit.Chem import Draw\n",
    "from rdkit.Chem.Draw import IPythonConsole\n",
    "from rdkit.Chem import AllChem\n",
    "from rdkit.Chem import DataStructs"
   ]
  },
  {
   "cell_type": "code",
   "execution_count": 13,
   "id": "0e953e12",
   "metadata": {},
   "outputs": [],
   "source": [
    "mol1 = Chem.MolFromSmiles('c1ccccc1')\n",
    "mol2 = Chem.MolFromSmiles('c1ccccc1CCCCCc1cnccc1')"
   ]
  },
  {
   "cell_type": "code",
   "execution_count": 14,
   "id": "323e9431",
   "metadata": {},
   "outputs": [
    {
     "data": {
      "image/png": "[encoded data removed]",
      "text/plain": [
       "<IPython.core.display.Image object>"
      ]
     },
     "execution_count": 14,
     "metadata": {},
     "output_type": "execute_result"
    }
   ],
   "source": [
    "Draw.MolsToGridImage([mol1, mol2])"
   ]
  },
  {
   "cell_type": "code",
   "execution_count": null,
   "id": "d9d01aff",
   "metadata": {},
   "outputs": [],
   "source": []
  },
  {
   "cell_type": "code",
   "execution_count": 15,
   "id": "41bc517a",
   "metadata": {},
   "outputs": [],
   "source": [
    "fp1 = Chem.PatternFingerprint(mol1)\n",
    "fp2 = Chem.PatternFingerprint(mol2)"
   ]
  },
  {
   "cell_type": "code",
   "execution_count": 16,
   "id": "031911ea",
   "metadata": {},
   "outputs": [
    {
     "name": "stdout",
     "output_type": "stream",
     "text": [
      "0.2804878048780488\n",
      "0.2804878048780488\n"
     ]
    }
   ],
   "source": [
    "print(DataStructs.TanimotoSimilarity(fp1,fp2))\n",
    "print(DataStructs.TanimotoSimilarity(fp2,fp1))"
   ]
  },
  {
   "cell_type": "code",
   "execution_count": 17,
   "id": "62b23758",
   "metadata": {},
   "outputs": [
    {
     "name": "stdout",
     "output_type": "stream",
     "text": [
      "1.0\n",
      "1.0\n"
     ]
    }
   ],
   "source": [
    "print(DataStructs.AsymmetricSimilarity(fp1,fp2))\n",
    "print(DataStructs.AsymmetricSimilarity(fp2,fp1))"
   ]
  },
  {
   "cell_type": "code",
   "execution_count": 9,
   "id": "c208602e",
   "metadata": {},
   "outputs": [
    {
     "data": {
      "image/png": "[encoded data removed]",
      "text/plain": [
       "<IPython.core.display.Image object>"
      ]
     },
     "execution_count": 9,
     "metadata": {},
     "output_type": "execute_result"
    }
   ],
   "source": [
    "mol3 = Chem.MolFromSmiles('c1ccccc1')\n",
    "mol4 = Chem.MolFromSmiles('c1ccncc1CCCCCc1cnccc1')\n",
    "mol5 = Chem.MolFromSmiles('c1ccncc1')\n",
    "fp3 = Chem.PatternFingerprint(mol3)\n",
    "fp4 = Chem.PatternFingerprint(mol4)\n",
    "fp5 = Chem.PatternFingerprint(mol5)\n",
    "\n",
    "fps = [fp3, fp4, fp5]\n",
    "mols = [mol3, mol4, mol5]\n",
    "Draw.MolsToGridImage(mols)"
   ]
  },
  {
   "cell_type": "code",
   "execution_count": 10,
   "id": "621b3b73",
   "metadata": {},
   "outputs": [
    {
     "name": "stdout",
     "output_type": "stream",
     "text": [
      "c1cncc(CCCCCc2cccnc2)c1 c1ccccc1 0.09090909090909091\n",
      "c1ccncc1 c1ccccc1 0.3333333333333333\n",
      "c1ccncc1 c1cncc(CCCCCc2cccnc2)c1 0.25\n"
     ]
    }
   ],
   "source": [
    "for i in range(3):\n",
    "    for j in range(i):\n",
    "        print(Chem.MolToSmiles(mols[i]), Chem.MolToSmiles(mols[j]), DataStructs.TanimotoSimilarity(fps[i], fps[j]))"
   ]
  },
  {
   "cell_type": "code",
   "execution_count": 11,
   "id": "c6daf8b1",
   "metadata": {},
   "outputs": [
    {
     "name": "stdout",
     "output_type": "stream",
     "text": [
      "c1cncc(CCCCCc2cccnc2)c1 c1ccccc1 0.6666666666666666\n",
      "c1ccncc1 c1ccccc1 1.0\n",
      "c1ccncc1 c1cncc(CCCCCc2cccnc2)c1 0.6666666666666666\n"
     ]
    }
   ],
   "source": [
    "for i in range(3):\n",
    "    for j in range(i):\n",
    "        print(Chem.MolToSmiles(mols[i]), Chem.MolToSmiles(mols[j]), DataStructs.AsymmetricSimilarity(fps[i], fps[j]))"
   ]
  },
  {
   "cell_type": "code",
   "execution_count": null,
   "id": "87ce05a7",
   "metadata": {},
   "outputs": [],
   "source": []
  }
 ],
 "metadata": {
  "kernelspec": {
   "display_name": "Python 3 (ipykernel)",
   "language": "python",
   "name": "python3"
  },
  "language_info": {
   "codemirror_mode": {
    "name": "ipython",
    "version": 3
   },
   "file_extension": ".py",
   "mimetype": "text/x-python",
   "name": "python",
   "nbconvert_exporter": "python",
   "pygments_lexer": "ipython3",
   "version": "3.9.16"
  }
 },
 "nbformat": 4,
 "nbformat_minor": 5
}
