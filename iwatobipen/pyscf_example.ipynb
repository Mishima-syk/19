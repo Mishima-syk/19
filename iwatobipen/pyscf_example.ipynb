{
 "cells": [
  {
   "cell_type": "code",
   "execution_count": 2,
   "id": "3bbc0070",
   "metadata": {},
   "outputs": [],
   "source": [
    "import pathlib\n",
    "\n",
    "# RDKit imports:\n",
    "from rdkit import Chem\n",
    "from rdkit.Chem import (\n",
    "    AllChem,\n",
    "    rdCoordGen,\n",
    ")\n",
    "from rdkit.Chem.Draw import IPythonConsole\n",
    "\n",
    "IPythonConsole.ipython_useSVG = True  # Use higher quality images for molecules\n",
    "\n",
    "# For visualization of molecules and orbitals:\n",
    "import py3Dmol\n",
    "import fortecubeview\n",
    "\n",
    "# pyscf imports:\n",
    "from pyscf import gto, scf, lo, tools\n",
    "\n",
    "# For plotting\n",
    "import matplotlib\n",
    "from matplotlib import pyplot as plt\n",
    "import seaborn as sns\n",
    "\n",
    "%matplotlib inline\n",
    "sns.set_theme(style=\"ticks\", context=\"talk\", palette=\"muted\")\n",
    "\n",
    "# For numerics:\n",
    "import numpy as np\n",
    "import pandas as pd\n",
    "\n",
    "pd.options.display.float_format = \"{:,.3f}\".format"
   ]
  },
  {
   "cell_type": "code",
   "execution_count": 3,
   "id": "1e561155",
   "metadata": {},
   "outputs": [
    {
     "data": {
      "image/png": "[encoded data removed]",
      "image/svg+xml": [
       "<?xml version='1.0' encoding='iso-8859-1'?>\n",
       "<svg version='1.1' baseProfile='full'\n",
       "              xmlns='http://www.w3.org/2000/svg'\n",
       "                      xmlns:rdkit='http://www.rdkit.org/xml'\n",
       "                      xmlns:xlink='http://www.w3.org/1999/xlink'\n",
       "                  xml:space='preserve'\n",
       "width='450px' height='150px' viewBox='0 0 450 150'>\n",
       "<!-- END OF HEADER -->\n",
       "<rect style='opacity:1.0;fill:#FFFFFF;stroke:none' width='450.0' height='150.0' x='0.0' y='0.0'> </rect>\n",
       "<path class='bond-0 atom-0 atom-1' d='M 20.5,44.3 L 429.5,44.3' style='fill:none;fill-rule:evenodd;stroke:#000000;stroke-width:2.0px;stroke-linecap:butt;stroke-linejoin:miter;stroke-opacity:1' />\n",
       "<path class='bond-0 atom-0 atom-1' d='M 20.5,105.7 L 429.5,105.7' style='fill:none;fill-rule:evenodd;stroke:#000000;stroke-width:2.0px;stroke-linecap:butt;stroke-linejoin:miter;stroke-opacity:1' />\n",
       "</svg>\n"
      ],
      "text/html": [
       "<?xml version='1.0' encoding='iso-8859-1'?>\n",
       "<svg version='1.1' baseProfile='full'\n",
       "              xmlns='http://www.w3.org/2000/svg'\n",
       "                      xmlns:rdkit='http://www.rdkit.org/xml'\n",
       "                      xmlns:xlink='http://www.w3.org/1999/xlink'\n",
       "                  xml:space='preserve'\n",
       "width='450px' height='150px' viewBox='0 0 450 150'>\n",
       "<!-- END OF HEADER -->\n",
       "<rect style='opacity:1.0;fill:#FFFFFF;stroke:none' width='450.0' height='150.0' x='0.0' y='0.0'> </rect>\n",
       "<path class='bond-0 atom-0 atom-1' d='M 20.5,44.3 L 429.5,44.3' style='fill:none;fill-rule:evenodd;stroke:#000000;stroke-width:2.0px;stroke-linecap:butt;stroke-linejoin:miter;stroke-opacity:1' />\n",
       "<path class='bond-0 atom-0 atom-1' d='M 20.5,105.7 L 429.5,105.7' style='fill:none;fill-rule:evenodd;stroke:#000000;stroke-width:2.0px;stroke-linecap:butt;stroke-linejoin:miter;stroke-opacity:1' />\n",
       "</svg>\n"
      ],
      "text/plain": [
       "<rdkit.Chem.rdchem.Mol at 0x7fe23f9ac510>"
      ]
     },
     "execution_count": 3,
     "metadata": {},
     "output_type": "execute_result"
    }
   ],
   "source": [
    "molecule_name = \"ethene\"\n",
    "molecule = Chem.MolFromSmiles(\"C=C\")  # Generate the molecule from smiles\n",
    "molecule"
   ]
  },
  {
   "cell_type": "code",
   "execution_count": 4,
   "id": "ee9bcacb",
   "metadata": {},
   "outputs": [],
   "source": [
    "def get_xyz(molecule, optimize=False):\n",
    "    \"\"\"Get xyz-coordinates for the molecule\"\"\"\n",
    "    mol = Chem.Mol(molecule)\n",
    "    mol = AllChem.AddHs(mol, addCoords=True)\n",
    "    AllChem.EmbedMolecule(mol)\n",
    "    if optimize:  # Optimize the molecules with the MM force field:\n",
    "        AllChem.MMFFOptimizeMolecule(mol)\n",
    "    xyz = []\n",
    "    for lines in Chem.MolToXYZBlock(mol).split(\"\\n\")[2:]:\n",
    "        strip = lines.strip()\n",
    "        if strip:\n",
    "            xyz.append(strip)\n",
    "    xyz = \"\\n\".join(xyz)\n",
    "    return mol, xyz"
   ]
  },
  {
   "cell_type": "code",
   "execution_count": 5,
   "id": "aaf242f5",
   "metadata": {},
   "outputs": [],
   "source": [
    "molecule3d, xyz = get_xyz(molecule)"
   ]
  },
  {
   "cell_type": "code",
   "execution_count": 6,
   "id": "abb6cbba",
   "metadata": {},
   "outputs": [
    {
     "data": {
      "application/3dmoljs_load.v0": "<div id=\"3dmolviewer_16761174948541043\"  style=\"position: relative; width: 300px; height: 300px\">\n        <p id=\"3dmolwarning_16761174948541043\" style=\"background-color:#ffcccc;color:black\">You appear to be running in JupyterLab (or JavaScript failed to load for some other reason).  You need to install the 3dmol extension: <br>\n        <tt>jupyter labextension install jupyterlab_3dmol</tt></p>\n        </div>\n<script>\n\nvar loadScriptAsync = function(uri){\n  return new Promise((resolve, reject) => {\n    //this is to ignore the existence of requirejs amd\n    var savedexports, savedmodule;\n    if (typeof exports !== 'undefined') savedexports = exports;\n    else exports = {}\n    if (typeof module !== 'undefined') savedmodule = module;\n    else module = {}\n\n    var tag = document.createElement('script');\n    tag.src = uri;\n    tag.async = true;\n    tag.onload = () => {\n        exports = savedexports;\n        module = savedmodule;\n        resolve();\n    };\n  var firstScriptTag = document.getElementsByTagName('script')[0];\n  firstScriptTag.parentNode.insertBefore(tag, firstScriptTag);\n});\n};\n\nif(typeof $3Dmolpromise === 'undefined') {\n$3Dmolpromise = null;\n  $3Dmolpromise = loadScriptAsync('https://cdnjs.cloudflare.com/ajax/libs/3Dmol/2.0.1/3Dmol-min.min.js');\n}\n\nvar viewer_16761174948541043 = null;\nvar warn = document.getElementById(\"3dmolwarning_16761174948541043\");\nif(warn) {\n    warn.parentNode.removeChild(warn);\n}\n$3Dmolpromise.then(function() {\nviewer_16761174948541043 = $3Dmol.createViewer(document.getElementById(\"3dmolviewer_16761174948541043\"),{backgroundColor:\"white\"});\nviewer_16761174948541043.addModel(\"\\n     RDKit          3D\\n\\n  6  5  0  0  0  0  0  0  0  0999 V2000\\n   -0.6167    0.0346    0.1996 C   0  0  0  0  0  0  0  0  0  0  0  0\\n    0.6351   -0.0339   -0.2053 C   0  0  0  0  0  0  0  0  0  0  0  0\\n   -1.2155   -0.8773    0.2275 H   0  0  0  0  0  0  0  0  0  0  0  0\\n   -1.0279    0.9941    0.4969 H   0  0  0  0  0  0  0  0  0  0  0  0\\n    1.0185   -0.9979   -0.4947 H   0  0  0  0  0  0  0  0  0  0  0  0\\n    1.2064    0.8805   -0.2241 H   0  0  0  0  0  0  0  0  0  0  0  0\\n  1  2  2  3\\n  1  3  1  0\\n  1  4  1  0\\n  2  5  1  0\\n  2  6  1  0\\nM  END\\n\");\nviewer_16761174948541043.setStyle({\"stick\": {}, \"sphere\": {\"scale\": 0.3}});\nviewer_16761174948541043.zoomTo();\n\tviewer_16761174948541043.zoomTo();\nviewer_16761174948541043.render();\n});\n</script>",
      "text/html": [
       "<div id=\"3dmolviewer_16761174948541043\"  style=\"position: relative; width: 300px; height: 300px\">\n",
       "        <p id=\"3dmolwarning_16761174948541043\" style=\"background-color:#ffcccc;color:black\">You appear to be running in JupyterLab (or JavaScript failed to load for some other reason).  You need to install the 3dmol extension: <br>\n",
       "        <tt>jupyter labextension install jupyterlab_3dmol</tt></p>\n",
       "        </div>\n",
       "<script>\n",
       "\n",
       "var loadScriptAsync = function(uri){\n",
       "  return new Promise((resolve, reject) => {\n",
       "    //this is to ignore the existence of requirejs amd\n",
       "    var savedexports, savedmodule;\n",
       "    if (typeof exports !== 'undefined') savedexports = exports;\n",
       "    else exports = {}\n",
       "    if (typeof module !== 'undefined') savedmodule = module;\n",
       "    else module = {}\n",
       "\n",
       "    var tag = document.createElement('script');\n",
       "    tag.src = uri;\n",
       "    tag.async = true;\n",
       "    tag.onload = () => {\n",
       "        exports = savedexports;\n",
       "        module = savedmodule;\n",
       "        resolve();\n",
       "    };\n",
       "  var firstScriptTag = document.getElementsByTagName('script')[0];\n",
       "  firstScriptTag.parentNode.insertBefore(tag, firstScriptTag);\n",
       "});\n",
       "};\n",
       "\n",
       "if(typeof $3Dmolpromise === 'undefined') {\n",
       "$3Dmolpromise = null;\n",
       "  $3Dmolpromise = loadScriptAsync('https://cdnjs.cloudflare.com/ajax/libs/3Dmol/2.0.1/3Dmol-min.min.js');\n",
       "}\n",
       "\n",
       "var viewer_16761174948541043 = null;\n",
       "var warn = document.getElementById(\"3dmolwarning_16761174948541043\");\n",
       "if(warn) {\n",
       "    warn.parentNode.removeChild(warn);\n",
       "}\n",
       "$3Dmolpromise.then(function() {\n",
       "viewer_16761174948541043 = $3Dmol.createViewer(document.getElementById(\"3dmolviewer_16761174948541043\"),{backgroundColor:\"white\"});\n",
       "viewer_16761174948541043.addModel(\"\\n     RDKit          3D\\n\\n  6  5  0  0  0  0  0  0  0  0999 V2000\\n   -0.6167    0.0346    0.1996 C   0  0  0  0  0  0  0  0  0  0  0  0\\n    0.6351   -0.0339   -0.2053 C   0  0  0  0  0  0  0  0  0  0  0  0\\n   -1.2155   -0.8773    0.2275 H   0  0  0  0  0  0  0  0  0  0  0  0\\n   -1.0279    0.9941    0.4969 H   0  0  0  0  0  0  0  0  0  0  0  0\\n    1.0185   -0.9979   -0.4947 H   0  0  0  0  0  0  0  0  0  0  0  0\\n    1.2064    0.8805   -0.2241 H   0  0  0  0  0  0  0  0  0  0  0  0\\n  1  2  2  3\\n  1  3  1  0\\n  1  4  1  0\\n  2  5  1  0\\n  2  6  1  0\\nM  END\\n\");\n",
       "viewer_16761174948541043.setStyle({\"stick\": {}, \"sphere\": {\"scale\": 0.3}});\n",
       "viewer_16761174948541043.zoomTo();\n",
       "\tviewer_16761174948541043.zoomTo();\n",
       "viewer_16761174948541043.render();\n",
       "});\n",
       "</script>"
      ]
     },
     "metadata": {},
     "output_type": "display_data"
    },
    {
     "data": {
      "text/plain": [
       "<py3Dmol.view at 0x7fe255452040>"
      ]
     },
     "execution_count": 6,
     "metadata": {},
     "output_type": "execute_result"
    }
   ],
   "source": [
    "view = py3Dmol.view(\n",
    "    data=Chem.MolToMolBlock(molecule3d),\n",
    "    style={\"stick\": {}, \"sphere\": {\"scale\": 0.3}},\n",
    "    width=300,\n",
    "    height=300,\n",
    ")\n",
    "view.zoomTo()"
   ]
  },
  {
   "cell_type": "code",
   "execution_count": 7,
   "id": "46db987d",
   "metadata": {},
   "outputs": [],
   "source": [
    "def run_calculation(xyz, basis=\"sto-3g\"):\n",
    "    \"\"\"Calculate the energy (+ additional things like MO coefficients) with pyscf.\"\"\"\n",
    "    mol = gto.M(\n",
    "        atom=xyz,\n",
    "        basis=basis,\n",
    "        unit=\"ANG\",\n",
    "        symmetry=True,\n",
    "    )\n",
    "    mol.build()\n",
    "    mf = scf.RHF(mol).run()\n",
    "    return mf, mol"
   ]
  },
  {
   "cell_type": "code",
   "execution_count": 8,
   "id": "11d28979",
   "metadata": {},
   "outputs": [
    {
     "name": "stdout",
     "output_type": "stream",
     "text": [
      "converged SCF energy = -77.069961819782\n"
     ]
    }
   ],
   "source": [
    "mf, mol = run_calculation(xyz, basis=\"sto-3g\")"
   ]
  },
  {
   "cell_type": "code",
   "execution_count": 9,
   "id": "5607c183",
   "metadata": {},
   "outputs": [
    {
     "data": {
      "text/html": [
       "<div>\n",
       "<style scoped>\n",
       "    .dataframe tbody tr th:only-of-type {\n",
       "        vertical-align: middle;\n",
       "    }\n",
       "\n",
       "    .dataframe tbody tr th {\n",
       "        vertical-align: top;\n",
       "    }\n",
       "\n",
       "    .dataframe thead th {\n",
       "        text-align: right;\n",
       "    }\n",
       "</style>\n",
       "<table border=\"1\" class=\"dataframe\">\n",
       "  <thead>\n",
       "    <tr style=\"text-align: right;\">\n",
       "      <th></th>\n",
       "      <th>Energy</th>\n",
       "      <th>Occupancy</th>\n",
       "    </tr>\n",
       "  </thead>\n",
       "  <tbody>\n",
       "    <tr>\n",
       "      <th>0</th>\n",
       "      <td>-11.017</td>\n",
       "      <td>2.000</td>\n",
       "    </tr>\n",
       "    <tr>\n",
       "      <th>1</th>\n",
       "      <td>-11.016</td>\n",
       "      <td>2.000</td>\n",
       "    </tr>\n",
       "    <tr>\n",
       "      <th>2</th>\n",
       "      <td>-0.986</td>\n",
       "      <td>2.000</td>\n",
       "    </tr>\n",
       "    <tr>\n",
       "      <th>3</th>\n",
       "      <td>-0.735</td>\n",
       "      <td>2.000</td>\n",
       "    </tr>\n",
       "    <tr>\n",
       "      <th>4</th>\n",
       "      <td>-0.616</td>\n",
       "      <td>2.000</td>\n",
       "    </tr>\n",
       "    <tr>\n",
       "      <th>5</th>\n",
       "      <td>-0.519</td>\n",
       "      <td>2.000</td>\n",
       "    </tr>\n",
       "    <tr>\n",
       "      <th>6</th>\n",
       "      <td>-0.466</td>\n",
       "      <td>2.000</td>\n",
       "    </tr>\n",
       "    <tr>\n",
       "      <th>7</th>\n",
       "      <td>-0.330</td>\n",
       "      <td>2.000</td>\n",
       "    </tr>\n",
       "    <tr>\n",
       "      <th>8</th>\n",
       "      <td>0.326</td>\n",
       "      <td>0.000</td>\n",
       "    </tr>\n",
       "    <tr>\n",
       "      <th>9</th>\n",
       "      <td>0.652</td>\n",
       "      <td>0.000</td>\n",
       "    </tr>\n",
       "    <tr>\n",
       "      <th>10</th>\n",
       "      <td>0.661</td>\n",
       "      <td>0.000</td>\n",
       "    </tr>\n",
       "    <tr>\n",
       "      <th>11</th>\n",
       "      <td>0.690</td>\n",
       "      <td>0.000</td>\n",
       "    </tr>\n",
       "    <tr>\n",
       "      <th>12</th>\n",
       "      <td>0.968</td>\n",
       "      <td>0.000</td>\n",
       "    </tr>\n",
       "    <tr>\n",
       "      <th>13</th>\n",
       "      <td>1.004</td>\n",
       "      <td>0.000</td>\n",
       "    </tr>\n",
       "  </tbody>\n",
       "</table>\n",
       "</div>"
      ],
      "text/plain": [
       "    Energy  Occupancy\n",
       "0  -11.017      2.000\n",
       "1  -11.016      2.000\n",
       "2   -0.986      2.000\n",
       "3   -0.735      2.000\n",
       "4   -0.616      2.000\n",
       "5   -0.519      2.000\n",
       "6   -0.466      2.000\n",
       "7   -0.330      2.000\n",
       "8    0.326      0.000\n",
       "9    0.652      0.000\n",
       "10   0.661      0.000\n",
       "11   0.690      0.000\n",
       "12   0.968      0.000\n",
       "13   1.004      0.000"
      ]
     },
     "execution_count": 9,
     "metadata": {},
     "output_type": "execute_result"
    }
   ],
   "source": [
    "table = pd.DataFrame({\"Energy\": mf.mo_energy, \"Occupancy\": mf.mo_occ})\n",
    "table"
   ]
  },
  {
   "cell_type": "code",
   "execution_count": 10,
   "id": "d7917871",
   "metadata": {},
   "outputs": [
    {
     "data": {
      "image/png": "[encoded data removed]",
      "text/plain": [
       "<Figure size 900x600 with 1 Axes>"
      ]
     },
     "metadata": {},
     "output_type": "display_data"
    }
   ],
   "source": [
    "fig, ax = plt.subplots(constrained_layout=True, figsize=(9, 6))\n",
    "colors = matplotlib.cm.get_cmap(\"tab20\")(np.linspace(0, 1, len(mf.mo_energy)))\n",
    "\n",
    "pos = []\n",
    "for i, (energy, occ) in enumerate(zip(mf.mo_energy, mf.mo_occ)):\n",
    "    left = 3 * i\n",
    "    right = 3 * i + 2.5\n",
    "    length = right - left\n",
    "\n",
    "    (line,) = ax.plot([left, right], [energy, energy], color=colors[i], lw=3)\n",
    "\n",
    "    electron_x, electron_y = None, None\n",
    "    if occ == 2:\n",
    "        electron_x = [left + 0.25 * length, left + 0.75 * length]\n",
    "        electron_y = [energy, energy]\n",
    "    elif occ == 1:\n",
    "        electron_x, electron_y = [left + 0.5], [energy]\n",
    "    if electron_x and electron_y:\n",
    "        ax.scatter(electron_x, electron_y, color=line.get_color())\n",
    "\n",
    "    pos.append(left + 0.5 * length)\n",
    "\n",
    "ax.axhline(y=0, ls=\":\", color=\"k\")\n",
    "ax.set_xticks(pos)\n",
    "ax.set_xticklabels([f\"#{i}\" for i, _ in enumerate(pos)])\n",
    "ax.set(xlabel=\"MO number\", ylabel=\"Energy / a.u.\")\n",
    "sns.despine(fig=fig)"
   ]
  },
  {
   "cell_type": "code",
   "execution_count": 11,
   "id": "40f04e8e",
   "metadata": {},
   "outputs": [],
   "source": [
    "def get_mo(mf, mol):\n",
    "    \"\"\"Get molecular orbitals\"\"\"\n",
    "    orbitals = {\"canonical\": mf.mo_coeff}\n",
    "\n",
    "    # Get intrinsic bonding orbitals and localized intrinsic valence virtual orbitals (livvo):\n",
    "    orbocc = mf.mo_coeff[:, 0 : mol.nelec[0]]\n",
    "    orbvirt = mf.mo_coeff[:, mol.nelec[0] :]\n",
    "\n",
    "    ovlpS = mol.intor_symmetric(\"int1e_ovlp\")\n",
    "\n",
    "    iaos = lo.iao.iao(mol, orbocc)\n",
    "    iaos = lo.orth.vec_lowdin(iaos, ovlpS)\n",
    "    ibos = lo.ibo.ibo(mol, orbocc, locmethod=\"IBO\")\n",
    "    orbitals[\"ibo\"] = ibos\n",
    "\n",
    "    livvo = lo.vvo.livvo(mol, orbocc, orbvirt)\n",
    "    orbitals[\"livvo\"] = livvo\n",
    "    return orbitals"
   ]
  },
  {
   "cell_type": "code",
   "execution_count": 12,
   "id": "ccae38b1",
   "metadata": {},
   "outputs": [
    {
     "name": "stdout",
     "output_type": "stream",
     "text": [
      " Iterative localization: IB/P4/2x2, 7 iter; Final gradient 9.97e-10\n",
      " Iterative localization: IB/P4/2x2, 6 iter; Final gradient 8.36e-09\n"
     ]
    }
   ],
   "source": [
    "orbitals = get_mo(mf, mol)"
   ]
  },
  {
   "cell_type": "code",
   "execution_count": 13,
   "id": "27f1721f",
   "metadata": {},
   "outputs": [],
   "source": [
    "def write_all_coeffs(\n",
    "    mol, coeffs, prefix=\"cmo\", dirname=\".\", margin=5, offset=0\n",
    "):\n",
    "    \"\"\"Write cube files for the given coefficients.\"\"\"\n",
    "    path = pathlib.Path(dirname)\n",
    "    path.mkdir(parents=True, exist_ok=True)\n",
    "\n",
    "    for i in range(coeffs.shape[1]):\n",
    "        outfile = f\"{prefix}_{i+offset:02d}.cube\"\n",
    "        outfile = path / outfile\n",
    "        print(f\"Writing {outfile}\")\n",
    "        tools.cubegen.orbital(mol, outfile, coeffs[:, i], margin=margin)"
   ]
  },
  {
   "cell_type": "code",
   "execution_count": 14,
   "id": "06bacd21",
   "metadata": {},
   "outputs": [
    {
     "name": "stdout",
     "output_type": "stream",
     "text": [
      "HOMO (index): 7\n"
     ]
    }
   ],
   "source": [
    "def find_homo_lumo(mf):\n",
    "    lumo = float(\"inf\")\n",
    "    lumo_idx = None\n",
    "    homo = -float(\"inf\")\n",
    "    homo_idx = None\n",
    "    for i, (energy, occ) in enumerate(zip(mf.mo_energy, mf.mo_occ)):\n",
    "        if occ > 0 and energy > homo:\n",
    "            homo = energy\n",
    "            homo_idx = i\n",
    "        if occ == 0 and energy < lumo:\n",
    "            lumo = energy\n",
    "            lumo_idx = i\n",
    "\n",
    "    return homo, homo_idx, lumo, lumo_idx\n",
    "\n",
    "\n",
    "_, homo_idx, _, lumo_idx = find_homo_lumo(mf)\n",
    "print(f\"HOMO (index): {homo_idx}\")"
   ]
  },
  {
   "cell_type": "code",
   "execution_count": 15,
   "id": "c1282dcc",
   "metadata": {},
   "outputs": [],
   "source": [
    "tools.cubegen.orbital(\n",
    "    mol, \"cmo_homo.cube\", orbitals[\"canonical\"][:, homo_idx], margin=5\n",
    ")\n",
    "tools.cubegen.orbital(\n",
    "    mol, \"cmo_lumo.cube\", orbitals[\"canonical\"][:, lumo_idx], margin=5\n",
    ")\n",
    "tools.cubegen.orbital(mol, \"ibo_homo.cube\", orbitals[\"ibo\"][:, -1], margin=5)\n",
    "tools.cubegen.orbital(\n",
    "    mol, \"livvo_lumo.cube\", orbitals[\"livvo\"][:, 0], margin=5\n",
    ");"
   ]
  },
  {
   "cell_type": "code",
   "execution_count": 4,
   "id": "c8cbdd0f",
   "metadata": {},
   "outputs": [],
   "source": [
    "homo_voldata = open('./cmo_homo.cube', 'r').read()\n",
    "lumo_voldata = open('./cmo_lumo.cube', 'r').read()"
   ]
  },
  {
   "cell_type": "code",
   "execution_count": 5,
   "id": "0d7c5003",
   "metadata": {},
   "outputs": [
    {
     "ename": "NameError",
     "evalue": "name 'py3Dmol' is not defined",
     "output_type": "error",
     "traceback": [
      "\u001b[0;31m---------------------------------------------------------------------------\u001b[0m",
      "\u001b[0;31mNameError\u001b[0m                                 Traceback (most recent call last)",
      "Cell \u001b[0;32mIn[5], line 1\u001b[0m\n\u001b[0;32m----> 1\u001b[0m v \u001b[38;5;241m=\u001b[39m \u001b[43mpy3Dmol\u001b[49m\u001b[38;5;241m.\u001b[39mview()\n\u001b[1;32m      2\u001b[0m v\u001b[38;5;241m.\u001b[39maddVolumetricData(homo_voldata, \u001b[38;5;124m\"\u001b[39m\u001b[38;5;124mcube\u001b[39m\u001b[38;5;124m\"\u001b[39m, {\u001b[38;5;124m'\u001b[39m\u001b[38;5;124misoval\u001b[39m\u001b[38;5;124m'\u001b[39m: \u001b[38;5;241m-\u001b[39m\u001b[38;5;241m0.03\u001b[39m, \u001b[38;5;124m'\u001b[39m\u001b[38;5;124mcolor\u001b[39m\u001b[38;5;124m'\u001b[39m: \u001b[38;5;124m\"\u001b[39m\u001b[38;5;124mred\u001b[39m\u001b[38;5;124m\"\u001b[39m, \u001b[38;5;124m'\u001b[39m\u001b[38;5;124mopacity\u001b[39m\u001b[38;5;124m'\u001b[39m: \u001b[38;5;241m0.75\u001b[39m})\n\u001b[1;32m      3\u001b[0m v\u001b[38;5;241m.\u001b[39maddVolumetricData(homo_voldata, \u001b[38;5;124m\"\u001b[39m\u001b[38;5;124mcube\u001b[39m\u001b[38;5;124m\"\u001b[39m, {\u001b[38;5;124m'\u001b[39m\u001b[38;5;124misoval\u001b[39m\u001b[38;5;124m'\u001b[39m: \u001b[38;5;241m0.03\u001b[39m, \u001b[38;5;124m'\u001b[39m\u001b[38;5;124mcolor\u001b[39m\u001b[38;5;124m'\u001b[39m: \u001b[38;5;124m\"\u001b[39m\u001b[38;5;124mblue\u001b[39m\u001b[38;5;124m\"\u001b[39m, \u001b[38;5;124m'\u001b[39m\u001b[38;5;124mopacity\u001b[39m\u001b[38;5;124m'\u001b[39m: \u001b[38;5;241m0.75\u001b[39m})\n",
      "\u001b[0;31mNameError\u001b[0m: name 'py3Dmol' is not defined"
     ]
    }
   ],
   "source": [
    "v = py3Dmol.view()\n",
    "v.addVolumetricData(homo_voldata, \"cube\", {'isoval': -0.03, 'color': \"red\", 'opacity': 0.75})\n",
    "v.addVolumetricData(homo_voldata, \"cube\", {'isoval': 0.03, 'color': \"blue\", 'opacity': 0.75})\n",
    "v.addModel(Chem.MolToMolBlock(mol), 'mol')\n",
    "v.setStyle({'stick':{}})\n",
    "v.zoomTo()\n",
    "v.show()"
   ]
  },
  {
   "cell_type": "code",
   "execution_count": null,
   "id": "21c7f5e3",
   "metadata": {},
   "outputs": [],
   "source": []
  }
 ],
 "metadata": {
  "kernelspec": {
   "display_name": "Python 3 (ipykernel)",
   "language": "python",
   "name": "python3"
  },
  "language_info": {
   "codemirror_mode": {
    "name": "ipython",
    "version": 3
   },
   "file_extension": ".py",
   "mimetype": "text/x-python",
   "name": "python",
   "nbconvert_exporter": "python",
   "pygments_lexer": "ipython3",
   "version": "3.9.16"
  }
 },
 "nbformat": 4,
 "nbformat_minor": 5
}
